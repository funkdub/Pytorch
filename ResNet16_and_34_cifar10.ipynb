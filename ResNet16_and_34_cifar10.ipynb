{
  "nbformat": 4,
  "nbformat_minor": 0,
  "metadata": {
    "colab": {
      "name": "Test_Feng.ipynb",
      "version": "0.3.2",
      "provenance": [],
      "collapsed_sections": [],
      "include_colab_link": true
    },
    "kernelspec": {
      "name": "python3",
      "display_name": "Python 3"
    },
    "accelerator": "GPU"
  },
  "cells": [
    {
      "cell_type": "markdown",
      "metadata": {
        "id": "view-in-github",
        "colab_type": "text"
      },
      "source": [
        "<a href=\"https://colab.research.google.com/github/funkdub/Pytorch/blob/master/ResNet16_and_34_cifar10.ipynb\" target=\"_parent\"><img src=\"https://colab.research.google.com/assets/colab-badge.svg\" alt=\"Open In Colab\"/></a>"
      ]
    },
    {
      "cell_type": "code",
      "metadata": {
        "id": "cjo1QxLG7W7p",
        "colab_type": "code",
        "outputId": "9d96fd05-dc53-446c-a9df-8cca810f4665",
        "colab": {
          "base_uri": "https://localhost:8080/",
          "height": 34
        }
      },
      "source": [
        "print('Importing ...')\n",
        "import torch\n",
        "import torch.nn as nn\n",
        "import torch.nn.functional as F\n",
        "import torch.optim as optim\n",
        "import torch.utils.data as data\n",
        "\n",
        "import torchvision\n",
        "import torchvision.transforms as transforms\n",
        "import torchvision.datasets as datasets\n",
        "\n",
        "\n",
        "import os\n",
        "import random\n",
        "import numpy as np\n",
        "\n",
        "SEED = 1234\n",
        "\n",
        "random.seed(SEED)\n",
        "np.random.seed(SEED)\n",
        "torch.manual_seed(SEED)\n",
        "torch.cuda.manual_seed(SEED)\n",
        "torch.backends.cudnn.deterministic = True"
      ],
      "execution_count": 2,
      "outputs": [
        {
          "output_type": "stream",
          "text": [
            "Importing ...\n"
          ],
          "name": "stdout"
        }
      ]
    },
    {
      "cell_type": "markdown",
      "metadata": {
        "id": "iiHvVp4lb98J",
        "colab_type": "text"
      },
      "source": [
        "使用datasets 准备数据集，并且将训练集 验证机 以及 测试集准备好。"
      ]
    },
    {
      "cell_type": "code",
      "metadata": {
        "id": "gXxv-7te8J_T",
        "colab_type": "code",
        "outputId": "a2bded36-6c74-48ef-fe9c-dfb503a4b919",
        "colab": {
          "base_uri": "https://localhost:8080/",
          "height": 107
        }
      },
      "source": [
        "# 其实就是数据增强操作,在dataloader中使用transforms\n",
        "train_transforms = transforms.Compose(\n",
        "[\n",
        "    transforms.RandomHorizontalFlip(),\n",
        "    transforms.RandomRotation(10),\n",
        "    transforms.RandomCrop(32,padding=3),\n",
        "    transforms.ToTensor(),\n",
        "    transforms.Normalize((0.49139968, 0.48215827, 0.44653124), (0.24703233, 0.24348505, 0.26158768))\n",
        "]\n",
        ")\n",
        "\n",
        "test_transforms = transforms.Compose(\n",
        "[\n",
        "    transforms.ToTensor(),\n",
        "    transforms.Normalize((0.49139968, 0.48215827, 0.44653124), (0.24703233, 0.24348505, 0.26158768))\n",
        "]\n",
        ")\n",
        "\n",
        "train_data = datasets.CIFAR10('data',train=True,download=True,transform=train_transforms)\n",
        "test_data = datasets.CIFAR10('data',train=False,download=True,transform=test_transforms)\n",
        "\n",
        "n_train = int(len(train_data)*0.9)\n",
        "n_valid = len(train_data) - n_train\n",
        "\n",
        "train_data,valid_data = torch.utils.data.random_split(train_data,[n_train,n_valid])\n",
        "\n",
        "print('train_data num is',n_train,'|valid_data numm is ',n_valid,'|test_data numm is',len(test_data))"
      ],
      "execution_count": 3,
      "outputs": [
        {
          "output_type": "stream",
          "text": [
            "\r0it [00:00, ?it/s]"
          ],
          "name": "stderr"
        },
        {
          "output_type": "stream",
          "text": [
            "Downloading https://www.cs.toronto.edu/~kriz/cifar-10-python.tar.gz to data/cifar-10-python.tar.gz\n"
          ],
          "name": "stdout"
        },
        {
          "output_type": "stream",
          "text": [
            "170500096it [00:02, 84766877.46it/s]                               \n"
          ],
          "name": "stderr"
        },
        {
          "output_type": "stream",
          "text": [
            "Files already downloaded and verified\n",
            "train_data num is 45000 |valid_data numm is  5000 |test_data numm is 10000\n"
          ],
          "name": "stdout"
        }
      ]
    },
    {
      "cell_type": "code",
      "metadata": {
        "id": "j059Fbf64ikY",
        "colab_type": "code",
        "colab": {
          "base_uri": "https://localhost:8080/",
          "height": 342
        },
        "outputId": "7cbcb309-2155-4516-cfc7-b987220328e5"
      },
      "source": [
        "import matplotlib.pyplot as plt\n",
        "import numpy as np\n",
        "x = next(iter(train_data))\n",
        "\n",
        "def show(img):\n",
        "  img = img.numpy()\n",
        "  plt.imshow(np.transpose(img,(1,2,0)))\n",
        "  \n",
        "print(x[0].shape)\n",
        "grid = torchvision.utils.make_grid(x[0],nrow=10,padding=100)\n",
        "\n",
        "show(grid)\n",
        "show(x[0])"
      ],
      "execution_count": 4,
      "outputs": [
        {
          "output_type": "stream",
          "text": [
            "torch.Size([3, 32, 32])\n"
          ],
          "name": "stdout"
        },
        {
          "output_type": "stream",
          "text": [
            "Clipping input data to the valid range for imshow with RGB data ([0..1] for floats or [0..255] for integers).\n",
            "Clipping input data to the valid range for imshow with RGB data ([0..1] for floats or [0..255] for integers).\n"
          ],
          "name": "stderr"
        },
        {
          "output_type": "display_data",
          "data": {
            "image/png": "[encoded data removed]",
            "text/plain": [
              "<Figure size 432x288 with 1 Axes>"
            ]
          },
          "metadata": {
            "tags": []
          }
        }
      ]
    },
    {
      "cell_type": "markdown",
      "metadata": {
        "id": "2F8Gcp8DgVS0",
        "colab_type": "text"
      },
      "source": [
        "参数"
      ]
    },
    {
      "cell_type": "code",
      "metadata": {
        "id": "mxXPVdjR-LTF",
        "colab_type": "code",
        "colab": {}
      },
      "source": [
        "BATCH_SIZE = 64\n",
        "\n",
        "train_data_it = data.DataLoader(train_data, shuffle=True, batch_size = BATCH_SIZE)\n",
        "valid_data_it = data.DataLoader(valid_data, batch_size = BATCH_SIZE)\n",
        "test_data_it = data.DataLoader(test_data, batch_size = BATCH_SIZE)\n"
      ],
      "execution_count": 0,
      "outputs": []
    },
    {
      "cell_type": "markdown",
      "metadata": {
        "id": "ZXR6YL9dtLeR",
        "colab_type": "text"
      },
      "source": [
        "定义 ResNet Block"
      ]
    },
    {
      "cell_type": "code",
      "metadata": {
        "id": "UEypZ742gj5L",
        "colab_type": "code",
        "colab": {}
      },
      "source": [
        "class ResNetBlock(nn.Module):\n",
        "  def __init__(self,in_channels,out_channels,stride):\n",
        "    super().__init__()\n",
        "    \n",
        "    self.conv1 = nn.Conv2d(in_channels,out_channels,kernel_size=3,stride=stride,padding=1,bias=False)\n",
        "    self.bn1 = nn.BatchNorm2d(out_channels)\n",
        "    self.conv2 = nn.Conv2d(out_channels,out_channels,kernel_size=3,stride=1,padding=1,bias=False)\n",
        "    self.bn2 = nn.BatchNorm2d(out_channels)\n",
        "    \n",
        "    \n",
        "    self.downsample = nn.Sequential() \n",
        "    if stride !=1 or in_channels != out_channels:\n",
        "      self.downsample = nn.Sequential(\n",
        "          nn.Conv2d(in_channels,out_channels,kernel_size=1,stride=stride,bias=False),\n",
        "          nn.BatchNorm2d(out_channels)\n",
        "      )\n",
        "    \n",
        "         \n",
        "   \n",
        "  def forward(self,x0):\n",
        "    x = F.relu(self.bn1(self.conv1(x0)))\n",
        "    x = self.bn2(self.conv2(x))\n",
        "    x += self.downsample(x0)\n",
        "    x = F.relu(x)\n",
        "    return x\n"
      ],
      "execution_count": 0,
      "outputs": []
    },
    {
      "cell_type": "markdown",
      "metadata": {
        "id": "VXYQrqGkfo_q",
        "colab_type": "text"
      },
      "source": [
        "ResNet Layer"
      ]
    },
    {
      "cell_type": "code",
      "metadata": {
        "id": "7mLxB3rgfrUe",
        "colab_type": "code",
        "colab": {}
      },
      "source": [
        "class ResNetLayer(nn.Module):\n",
        "  def __init__(self, block, n_blocks, in_channels, out_channels, stride):\n",
        "    super().__init__()\n",
        "    \n",
        "    self.modules = []\n",
        "    \n",
        "    self.modules.append(block(in_channels,out_channels,stride))\n",
        "    \n",
        "    for _ in range(n_blocks - 1):\n",
        "      self.modules.append(block(out_channels,out_channels,1))     \n",
        "      \n",
        "    self.blocks = nn.Sequential(*self.modules)\n",
        "    \n",
        "  def forward(self,x):\n",
        "    return self.blocks(x)"
      ],
      "execution_count": 0,
      "outputs": []
    },
    {
      "cell_type": "markdown",
      "metadata": {
        "id": "Ge6sjI0QfrzR",
        "colab_type": "text"
      },
      "source": [
        "ResNet18"
      ]
    },
    {
      "cell_type": "code",
      "metadata": {
        "id": "B9CvVF6DftkS",
        "colab_type": "code",
        "colab": {}
      },
      "source": [
        "class ResNet18(nn.Module):\n",
        "  def __init__(self,layer,block):\n",
        "    super().__init__()\n",
        "    \n",
        "    n_blocks = [2,2,2,2]\n",
        "    \n",
        "    self.conv1 = nn.Conv2d(3,64,kernel_size=3,stride=1,padding=1,bias=False)\n",
        "    self.bn1 = nn.BatchNorm2d(64)\n",
        "    self.layer1 = layer(block , n_blocks[0], 64, 64 ,1)\n",
        "    self.layer2 = layer(block , n_blocks[1], 64, 128 ,2)    \n",
        "    self.layer3 = layer(block , n_blocks[2], 128, 256 ,2)\n",
        "    self.layer4 = layer(block , n_blocks[3], 256, 512 ,2)\n",
        "    self.fc1 = nn.Linear(512, 10)\n",
        "    \n",
        "  def forward(self,x):\n",
        "    x = F.relu(self.bn1(self.conv1(x)))\n",
        "    x = self.layer1(x)\n",
        "    x = self.layer2(x)\n",
        "    x = self.layer3(x)\n",
        "    x = self.layer4(x)\n",
        "    x = F.avg_pool2d(x , 4)\n",
        "    x = x.view(x.shape[0],-1)\n",
        "    x = self.fc1(x)\n",
        "    return x\n"
      ],
      "execution_count": 0,
      "outputs": []
    },
    {
      "cell_type": "markdown",
      "metadata": {
        "id": "8l-SQH6bft-_",
        "colab_type": "text"
      },
      "source": [
        "ResNet34"
      ]
    },
    {
      "cell_type": "code",
      "metadata": {
        "id": "gaHzIw3VfvEm",
        "colab_type": "code",
        "colab": {}
      },
      "source": [
        "class ResNet34(nn.Module):\n",
        "  def __init__(self,layer,block):\n",
        "    super().__init__()\n",
        "    \n",
        "    n_blocks  = [3,4,6,3]\n",
        "    \n",
        "    self.conv1 = nn.Conv2d(3,64,kernel_size=3,stride=1,padding=1,bias=False)\n",
        "    self.bn1 = nn.BatchNorm2d(64)\n",
        "    self.layer1 = layer(block , n_blocks[0], 64, 64 ,1)\n",
        "    self.layer2 = layer(block , n_blocks[1], 64, 128 ,2)    \n",
        "    self.layer3 = layer(block , n_blocks[2], 128, 256 ,2)\n",
        "    self.layer4 = layer(block , n_blocks[3], 256, 512 ,2)\n",
        "    self.fc1 = nn.Linear(512, 10)\n",
        "    \n",
        "  def forward(self,x):\n",
        "    x = F.relu(self.bn1(self.conv1(x)))\n",
        "    x = self.layer1(x)\n",
        "    x = self.layer2(x)\n",
        "    x = self.layer3(x)\n",
        "    x = self.layer4(x)\n",
        "    x = F.avg_pool2d(x , 4)\n",
        "    x = x.view(x.shape[0],-1)\n",
        "    x = self.fc1(x)\n",
        "    return x\n"
      ],
      "execution_count": 0,
      "outputs": []
    },
    {
      "cell_type": "code",
      "metadata": {
        "id": "9V0FfSjCtK1T",
        "colab_type": "code",
        "outputId": "41d0734a-4c4a-4948-e81b-a455c8a6ac65",
        "colab": {
          "base_uri": "https://localhost:8080/",
          "height": 1000
        }
      },
      "source": [
        "BATCH_NORM = True\n",
        "\n",
        "def get_n_parameters(model):\n",
        "  return sum([p.numel() for p in model.parameters()])\n",
        "\n",
        "\n",
        "resnet18_model = ResNet18(ResNetLayer, ResNetBlock)\n",
        "resnet18_parameters = get_n_parameters(resnet18_model)\n",
        "\n",
        "resnet34_model = ResNet34(ResNetLayer, ResNetBlock)\n",
        "resnet34_parameters = get_n_parameters(resnet34_model)\n",
        "\n",
        "\n",
        "print('R18 param num is ', resnet18_parameters)\n",
        "print('R34 param num is ', resnet34_parameters)\n",
        "\n",
        "\n",
        "device = torch.device('cuda' if torch.cuda.is_available() else 'cpu')\n",
        "print(device)\n",
        "model = ResNet34(ResNetLayer,ResNetBlock).to(device)\n",
        "optimizer = optim.Adam(model.parameters())\n",
        "loss_func = nn.CrossEntropyLoss()\n",
        "print(model)"
      ],
      "execution_count": 10,
      "outputs": [
        {
          "output_type": "stream",
          "text": [
            "R18 param num is  11173962\n",
            "R34 param num is  21282122\n",
            "cuda\n",
            "ResNet34(\n",
            "  (conv1): Conv2d(3, 64, kernel_size=(3, 3), stride=(1, 1), padding=(1, 1), bias=False)\n",
            "  (bn1): BatchNorm2d(64, eps=1e-05, momentum=0.1, affine=True, track_running_stats=True)\n",
            "  (layer1): ResNetLayer(\n",
            "    (blocks): Sequential(\n",
            "      (0): ResNetBlock(\n",
            "        (conv1): Conv2d(64, 64, kernel_size=(3, 3), stride=(1, 1), padding=(1, 1), bias=False)\n",
            "        (bn1): BatchNorm2d(64, eps=1e-05, momentum=0.1, affine=True, track_running_stats=True)\n",
            "        (conv2): Conv2d(64, 64, kernel_size=(3, 3), stride=(1, 1), padding=(1, 1), bias=False)\n",
            "        (bn2): BatchNorm2d(64, eps=1e-05, momentum=0.1, affine=True, track_running_stats=True)\n",
            "        (downsample): Sequential()\n",
            "      )\n",
            "      (1): ResNetBlock(\n",
            "        (conv1): Conv2d(64, 64, kernel_size=(3, 3), stride=(1, 1), padding=(1, 1), bias=False)\n",
            "        (bn1): BatchNorm2d(64, eps=1e-05, momentum=0.1, affine=True, track_running_stats=True)\n",
            "        (conv2): Conv2d(64, 64, kernel_size=(3, 3), stride=(1, 1), padding=(1, 1), bias=False)\n",
            "        (bn2): BatchNorm2d(64, eps=1e-05, momentum=0.1, affine=True, track_running_stats=True)\n",
            "        (downsample): Sequential()\n",
            "      )\n",
            "      (2): ResNetBlock(\n",
            "        (conv1): Conv2d(64, 64, kernel_size=(3, 3), stride=(1, 1), padding=(1, 1), bias=False)\n",
            "        (bn1): BatchNorm2d(64, eps=1e-05, momentum=0.1, affine=True, track_running_stats=True)\n",
            "        (conv2): Conv2d(64, 64, kernel_size=(3, 3), stride=(1, 1), padding=(1, 1), bias=False)\n",
            "        (bn2): BatchNorm2d(64, eps=1e-05, momentum=0.1, affine=True, track_running_stats=True)\n",
            "        (downsample): Sequential()\n",
            "      )\n",
            "    )\n",
            "  )\n",
            "  (layer2): ResNetLayer(\n",
            "    (blocks): Sequential(\n",
            "      (0): ResNetBlock(\n",
            "        (conv1): Conv2d(64, 128, kernel_size=(3, 3), stride=(2, 2), padding=(1, 1), bias=False)\n",
            "        (bn1): BatchNorm2d(128, eps=1e-05, momentum=0.1, affine=True, track_running_stats=True)\n",
            "        (conv2): Conv2d(128, 128, kernel_size=(3, 3), stride=(1, 1), padding=(1, 1), bias=False)\n",
            "        (bn2): BatchNorm2d(128, eps=1e-05, momentum=0.1, affine=True, track_running_stats=True)\n",
            "        (downsample): Sequential(\n",
            "          (0): Conv2d(64, 128, kernel_size=(1, 1), stride=(2, 2), bias=False)\n",
            "          (1): BatchNorm2d(128, eps=1e-05, momentum=0.1, affine=True, track_running_stats=True)\n",
            "        )\n",
            "      )\n",
            "      (1): ResNetBlock(\n",
            "        (conv1): Conv2d(128, 128, kernel_size=(3, 3), stride=(1, 1), padding=(1, 1), bias=False)\n",
            "        (bn1): BatchNorm2d(128, eps=1e-05, momentum=0.1, affine=True, track_running_stats=True)\n",
            "        (conv2): Conv2d(128, 128, kernel_size=(3, 3), stride=(1, 1), padding=(1, 1), bias=False)\n",
            "        (bn2): BatchNorm2d(128, eps=1e-05, momentum=0.1, affine=True, track_running_stats=True)\n",
            "        (downsample): Sequential()\n",
            "      )\n",
            "      (2): ResNetBlock(\n",
            "        (conv1): Conv2d(128, 128, kernel_size=(3, 3), stride=(1, 1), padding=(1, 1), bias=False)\n",
            "        (bn1): BatchNorm2d(128, eps=1e-05, momentum=0.1, affine=True, track_running_stats=True)\n",
            "        (conv2): Conv2d(128, 128, kernel_size=(3, 3), stride=(1, 1), padding=(1, 1), bias=False)\n",
            "        (bn2): BatchNorm2d(128, eps=1e-05, momentum=0.1, affine=True, track_running_stats=True)\n",
            "        (downsample): Sequential()\n",
            "      )\n",
            "      (3): ResNetBlock(\n",
            "        (conv1): Conv2d(128, 128, kernel_size=(3, 3), stride=(1, 1), padding=(1, 1), bias=False)\n",
            "        (bn1): BatchNorm2d(128, eps=1e-05, momentum=0.1, affine=True, track_running_stats=True)\n",
            "        (conv2): Conv2d(128, 128, kernel_size=(3, 3), stride=(1, 1), padding=(1, 1), bias=False)\n",
            "        (bn2): BatchNorm2d(128, eps=1e-05, momentum=0.1, affine=True, track_running_stats=True)\n",
            "        (downsample): Sequential()\n",
            "      )\n",
            "    )\n",
            "  )\n",
            "  (layer3): ResNetLayer(\n",
            "    (blocks): Sequential(\n",
            "      (0): ResNetBlock(\n",
            "        (conv1): Conv2d(128, 256, kernel_size=(3, 3), stride=(2, 2), padding=(1, 1), bias=False)\n",
            "        (bn1): BatchNorm2d(256, eps=1e-05, momentum=0.1, affine=True, track_running_stats=True)\n",
            "        (conv2): Conv2d(256, 256, kernel_size=(3, 3), stride=(1, 1), padding=(1, 1), bias=False)\n",
            "        (bn2): BatchNorm2d(256, eps=1e-05, momentum=0.1, affine=True, track_running_stats=True)\n",
            "        (downsample): Sequential(\n",
            "          (0): Conv2d(128, 256, kernel_size=(1, 1), stride=(2, 2), bias=False)\n",
            "          (1): BatchNorm2d(256, eps=1e-05, momentum=0.1, affine=True, track_running_stats=True)\n",
            "        )\n",
            "      )\n",
            "      (1): ResNetBlock(\n",
            "        (conv1): Conv2d(256, 256, kernel_size=(3, 3), stride=(1, 1), padding=(1, 1), bias=False)\n",
            "        (bn1): BatchNorm2d(256, eps=1e-05, momentum=0.1, affine=True, track_running_stats=True)\n",
            "        (conv2): Conv2d(256, 256, kernel_size=(3, 3), stride=(1, 1), padding=(1, 1), bias=False)\n",
            "        (bn2): BatchNorm2d(256, eps=1e-05, momentum=0.1, affine=True, track_running_stats=True)\n",
            "        (downsample): Sequential()\n",
            "      )\n",
            "      (2): ResNetBlock(\n",
            "        (conv1): Conv2d(256, 256, kernel_size=(3, 3), stride=(1, 1), padding=(1, 1), bias=False)\n",
            "        (bn1): BatchNorm2d(256, eps=1e-05, momentum=0.1, affine=True, track_running_stats=True)\n",
            "        (conv2): Conv2d(256, 256, kernel_size=(3, 3), stride=(1, 1), padding=(1, 1), bias=False)\n",
            "        (bn2): BatchNorm2d(256, eps=1e-05, momentum=0.1, affine=True, track_running_stats=True)\n",
            "        (downsample): Sequential()\n",
            "      )\n",
            "      (3): ResNetBlock(\n",
            "        (conv1): Conv2d(256, 256, kernel_size=(3, 3), stride=(1, 1), padding=(1, 1), bias=False)\n",
            "        (bn1): BatchNorm2d(256, eps=1e-05, momentum=0.1, affine=True, track_running_stats=True)\n",
            "        (conv2): Conv2d(256, 256, kernel_size=(3, 3), stride=(1, 1), padding=(1, 1), bias=False)\n",
            "        (bn2): BatchNorm2d(256, eps=1e-05, momentum=0.1, affine=True, track_running_stats=True)\n",
            "        (downsample): Sequential()\n",
            "      )\n",
            "      (4): ResNetBlock(\n",
            "        (conv1): Conv2d(256, 256, kernel_size=(3, 3), stride=(1, 1), padding=(1, 1), bias=False)\n",
            "        (bn1): BatchNorm2d(256, eps=1e-05, momentum=0.1, affine=True, track_running_stats=True)\n",
            "        (conv2): Conv2d(256, 256, kernel_size=(3, 3), stride=(1, 1), padding=(1, 1), bias=False)\n",
            "        (bn2): BatchNorm2d(256, eps=1e-05, momentum=0.1, affine=True, track_running_stats=True)\n",
            "        (downsample): Sequential()\n",
            "      )\n",
            "      (5): ResNetBlock(\n",
            "        (conv1): Conv2d(256, 256, kernel_size=(3, 3), stride=(1, 1), padding=(1, 1), bias=False)\n",
            "        (bn1): BatchNorm2d(256, eps=1e-05, momentum=0.1, affine=True, track_running_stats=True)\n",
            "        (conv2): Conv2d(256, 256, kernel_size=(3, 3), stride=(1, 1), padding=(1, 1), bias=False)\n",
            "        (bn2): BatchNorm2d(256, eps=1e-05, momentum=0.1, affine=True, track_running_stats=True)\n",
            "        (downsample): Sequential()\n",
            "      )\n",
            "    )\n",
            "  )\n",
            "  (layer4): ResNetLayer(\n",
            "    (blocks): Sequential(\n",
            "      (0): ResNetBlock(\n",
            "        (conv1): Conv2d(256, 512, kernel_size=(3, 3), stride=(2, 2), padding=(1, 1), bias=False)\n",
            "        (bn1): BatchNorm2d(512, eps=1e-05, momentum=0.1, affine=True, track_running_stats=True)\n",
            "        (conv2): Conv2d(512, 512, kernel_size=(3, 3), stride=(1, 1), padding=(1, 1), bias=False)\n",
            "        (bn2): BatchNorm2d(512, eps=1e-05, momentum=0.1, affine=True, track_running_stats=True)\n",
            "        (downsample): Sequential(\n",
            "          (0): Conv2d(256, 512, kernel_size=(1, 1), stride=(2, 2), bias=False)\n",
            "          (1): BatchNorm2d(512, eps=1e-05, momentum=0.1, affine=True, track_running_stats=True)\n",
            "        )\n",
            "      )\n",
            "      (1): ResNetBlock(\n",
            "        (conv1): Conv2d(512, 512, kernel_size=(3, 3), stride=(1, 1), padding=(1, 1), bias=False)\n",
            "        (bn1): BatchNorm2d(512, eps=1e-05, momentum=0.1, affine=True, track_running_stats=True)\n",
            "        (conv2): Conv2d(512, 512, kernel_size=(3, 3), stride=(1, 1), padding=(1, 1), bias=False)\n",
            "        (bn2): BatchNorm2d(512, eps=1e-05, momentum=0.1, affine=True, track_running_stats=True)\n",
            "        (downsample): Sequential()\n",
            "      )\n",
            "      (2): ResNetBlock(\n",
            "        (conv1): Conv2d(512, 512, kernel_size=(3, 3), stride=(1, 1), padding=(1, 1), bias=False)\n",
            "        (bn1): BatchNorm2d(512, eps=1e-05, momentum=0.1, affine=True, track_running_stats=True)\n",
            "        (conv2): Conv2d(512, 512, kernel_size=(3, 3), stride=(1, 1), padding=(1, 1), bias=False)\n",
            "        (bn2): BatchNorm2d(512, eps=1e-05, momentum=0.1, affine=True, track_running_stats=True)\n",
            "        (downsample): Sequential()\n",
            "      )\n",
            "    )\n",
            "  )\n",
            "  (fc1): Linear(in_features=512, out_features=10, bias=True)\n",
            ")\n"
          ],
          "name": "stdout"
        }
      ]
    },
    {
      "cell_type": "markdown",
      "metadata": {
        "id": "2AP8suNIuZKN",
        "colab_type": "text"
      },
      "source": [
        "计算准确率"
      ]
    },
    {
      "cell_type": "code",
      "metadata": {
        "id": "ToE_0I2AuUMF",
        "colab_type": "code",
        "colab": {}
      },
      "source": [
        "def accuracy_cal(pred, y):\n",
        "  # tensor.max选取 tensor中的最大值 \n",
        "  # max(1)将 最大值的 index 作为结果输出\n",
        "  prediction = pred.max(1)[1]\n",
        "  correct = prediction.eq(y.view_as(prediction)).sum()\n",
        "  acc = correct.float() / prediction.shape[0]\n",
        "  return acc"
      ],
      "execution_count": 0,
      "outputs": []
    },
    {
      "cell_type": "code",
      "metadata": {
        "id": "qfHSniaaxB94",
        "colab_type": "code",
        "colab": {}
      },
      "source": [
        "def train(model, device , data , optimizer , loss_func):\n",
        "  epoch_loss = 0\n",
        "  epoch_acc = 0\n",
        "  \n",
        "  model.train()\n",
        "  \n",
        "  for (x,y) in data:\n",
        "    \n",
        "    x = x.to(device)\n",
        "    y = y.to(device)\n",
        "\n",
        "    optimizer.zero_grad()\n",
        "    pred = model(x)\n",
        "    loss = loss_func(pred, y)\n",
        "    acc = accuracy_cal(pred,y)\n",
        "    loss.backward()\n",
        "    optimizer.step()\n",
        "    \n",
        "    # item()将单值tensor转换成标量\n",
        "    epoch_loss += loss.item()\n",
        "    epoch_acc += acc.item()\n",
        "  return epoch_loss / len(data), epoch_acc / len(data)"
      ],
      "execution_count": 0,
      "outputs": []
    },
    {
      "cell_type": "code",
      "metadata": {
        "id": "milidOP-yLl-",
        "colab_type": "code",
        "colab": {}
      },
      "source": [
        "def test(model,device,data,loss_func):\n",
        "  epoch_loss = 0\n",
        "  epoch_acc = 0\n",
        "  model.eval()\n",
        "  \n",
        "  with torch.no_grad():\n",
        "    for (x,y) in data:\n",
        "      x = x.to(device)\n",
        "      y = y.to(device)\n",
        "      \n",
        "      pred = model(x)\n",
        "      loss = loss_func(pred,y)\n",
        "      acc = accuracy_cal(pred,y)\n",
        "      \n",
        "      epoch_loss += loss.item()\n",
        "      epoch_acc += acc.item()\n",
        "  return epoch_loss / len(data), epoch_acc / len(data)\n",
        "      "
      ],
      "execution_count": 0,
      "outputs": []
    },
    {
      "cell_type": "code",
      "metadata": {
        "id": "UHC2tRSmzYBm",
        "colab_type": "code",
        "outputId": "6217b127-1233-43bd-94a9-ce30714021cf",
        "colab": {
          "base_uri": "https://localhost:8080/",
          "height": 389
        }
      },
      "source": [
        "EPOCH = 10\n",
        "SAVE_DIR = 'models'\n",
        "MODEL_SAVE_DIR = os.path.join(SAVE_DIR,'ResNet_cifar10.pt')\n",
        "\n",
        "best_valid_loss = float('inf')\n",
        "\n",
        "\n",
        "if not os.path.isdir(f'{SAVE_DIR}'):\n",
        "  os.makedirs(f'{SAVE_DIR}')\n",
        "  \n",
        "for epoch in range(EPOCH):\n",
        "  print('Epoch is ',epoch)\n",
        "  train_loss , train_acc = train(model,device,train_data_it,optimizer,loss_func)\n",
        "  valid_loss , valid_acc = test(model,device,valid_data_it,loss_func)\n",
        "  \n",
        "  if valid_loss < best_valid_loss:\n",
        "    best_valid_loss = valid_loss\n",
        "    torch.save(model.state_dict(),MODEL_SAVE_DIR)\n",
        "  print('|EPOCH ',epoch,'|Train Loss is ',train_loss,'|Train Acc is ',train_acc,'|Valid Loss is ',valid_loss,'|Valid acc is ',valid_acc)"
      ],
      "execution_count": 14,
      "outputs": [
        {
          "output_type": "stream",
          "text": [
            "Epoch is  0\n",
            "|EPOCH  0 |Train Loss is  1.642992772331292 |Train Acc is  0.3836115056818182 |Valid Loss is  1.4229607008680512 |Valid acc is  0.4752768987341772\n",
            "Epoch is  1\n",
            "|EPOCH  1 |Train Loss is  1.1898646558719603 |Train Acc is  0.5691361860795454 |Valid Loss is  1.0269970991943456 |Valid acc is  0.6350870253164557\n",
            "Epoch is  2\n",
            "|EPOCH  2 |Train Loss is  0.9392027310519055 |Train Acc is  0.66796875 |Valid Loss is  0.8808522994005228 |Valid acc is  0.698378164556962\n",
            "Epoch is  3\n",
            "|EPOCH  3 |Train Loss is  0.7819979428313673 |Train Acc is  0.7252308238636364 |Valid Loss is  0.7303179943863349 |Valid acc is  0.7436708860759493\n",
            "Epoch is  4\n",
            "|EPOCH  4 |Train Loss is  0.6647465413182296 |Train Acc is  0.7670454545454546 |Valid Loss is  0.6896018559419657 |Valid acc is  0.7616693037974683\n",
            "Epoch is  5\n",
            "|EPOCH  5 |Train Loss is  0.5826569815504957 |Train Acc is  0.7983620383522727 |Valid Loss is  0.5975852186166788 |Valid acc is  0.7958860759493671\n",
            "Epoch is  6\n",
            "|EPOCH  6 |Train Loss is  0.5234556802844798 |Train Acc is  0.8186700994318182 |Valid Loss is  0.5919830101200297 |Valid acc is  0.7966772151898734\n",
            "Epoch is  7\n",
            "|EPOCH  7 |Train Loss is  0.47020196927372704 |Train Acc is  0.8368918678977273 |Valid Loss is  0.5215118270886095 |Valid acc is  0.8235759493670886\n",
            "Epoch is  8\n",
            "|EPOCH  8 |Train Loss is  0.4302484458524056 |Train Acc is  0.8518954190340909 |Valid Loss is  0.5140640588500832 |Valid acc is  0.8263449367088608\n",
            "Epoch is  9\n",
            "|EPOCH  9 |Train Loss is  0.39517990277487447 |Train Acc is  0.8626154119318182 |Valid Loss is  0.44819270885443385 |Valid acc is  0.8492879746835443\n"
          ],
          "name": "stdout"
        }
      ]
    },
    {
      "cell_type": "code",
      "metadata": {
        "id": "G1RR2mdt1UdU",
        "colab_type": "code",
        "outputId": "743903b2-e228-4be0-e9a8-8029140adcec",
        "colab": {
          "base_uri": "https://localhost:8080/",
          "height": 34
        }
      },
      "source": [
        "model.load_state_dict(torch.load(MODEL_SAVE_DIR))\n",
        "test_loss, test_acc = test(model,device,test_data_it,loss_func)\n",
        "print('Test Loss is ',test_loss,'|Test ACC is ',test_acc)"
      ],
      "execution_count": 15,
      "outputs": [
        {
          "output_type": "stream",
          "text": [
            "Test Loss is  0.396747120721325 |Test ACC is  0.8702229299363057\n"
          ],
          "name": "stdout"
        }
      ]
    },
    {
      "cell_type": "code",
      "metadata": {
        "id": "g8__wE9hDcPp",
        "colab_type": "code",
        "colab": {}
      },
      "source": [
        ""
      ],
      "execution_count": 0,
      "outputs": []
    }
  ]
}