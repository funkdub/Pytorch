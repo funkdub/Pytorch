{
  "nbformat": 4,
  "nbformat_minor": 0,
  "metadata": {
    "colab": {
      "name": "Test_Feng.ipynb",
      "version": "0.3.2",
      "provenance": [],
      "collapsed_sections": [],
      "include_colab_link": true
    },
    "kernelspec": {
      "name": "python3",
      "display_name": "Python 3"
    },
    "accelerator": "GPU"
  },
  "cells": [
    {
      "cell_type": "markdown",
      "metadata": {
        "id": "view-in-github",
        "colab_type": "text"
      },
      "source": [
        "<a href=\"https://colab.research.google.com/github/funkdub/Pytorch/blob/master/Pytorch_MNIST_MLP.ipynb\" target=\"_parent\"><img src=\"https://colab.research.google.com/assets/colab-badge.svg\" alt=\"Open In Colab\"/></a>"
      ]
    },
    {
      "cell_type": "code",
      "metadata": {
        "id": "cjo1QxLG7W7p",
        "colab_type": "code",
        "colab": {
          "base_uri": "https://localhost:8080/",
          "height": 34
        },
        "outputId": "e12b912c-b750-47b7-9500-71ccfcb8df74"
      },
      "source": [
        "print('Importing ...')\n",
        "import torch\n",
        "import torch.nn as nn\n",
        "import torch.nn.functional as F\n",
        "import torch.optim as optim\n",
        "import torch.utils.data as data\n",
        "\n",
        "import torchvision\n",
        "import torchvision.transforms as transforms\n",
        "import torchvision.datasets as datasets\n",
        "\n",
        "\n",
        "import os\n",
        "import random\n",
        "import numpy as np\n",
        "\n",
        "SEED = 1234\n",
        "\n",
        "random.seed(SEED)\n",
        "np.random.seed(SEED)\n",
        "torch.manual_seed(SEED)\n",
        "torch.cuda.manual_seed(SEED)\n",
        "torch.backends.cudnn.deterministic = True"
      ],
      "execution_count": 218,
      "outputs": [
        {
          "output_type": "stream",
          "text": [
            "Importing ...\n"
          ],
          "name": "stdout"
        }
      ]
    },
    {
      "cell_type": "markdown",
      "metadata": {
        "id": "iiHvVp4lb98J",
        "colab_type": "text"
      },
      "source": [
        "使用datasets 准备数据集，并且将训练集 验证机 以及 测试集准备好。"
      ]
    },
    {
      "cell_type": "code",
      "metadata": {
        "id": "gXxv-7te8J_T",
        "colab_type": "code",
        "colab": {
          "base_uri": "https://localhost:8080/",
          "height": 34
        },
        "outputId": "f56a671a-372c-45db-a99f-61685e2bb89e"
      },
      "source": [
        "# 其实就是数据增强操作,在dataloader中使用transforms\n",
        "data_transforms = transforms.Compose(\n",
        "[\n",
        "    transforms.ToTensor(),\n",
        "    transforms.Normalize((0.1307,),(0.3081,))\n",
        "]\n",
        ")\n",
        "\n",
        "train_data = datasets.MNIST('data',train=True,download=True,transform=data_transforms)\n",
        "test_data = datasets.MNIST('data',train=False,download=True,transform=data_transforms)\n",
        "\n",
        "n_train = int(len(train_data)*0.9)\n",
        "n_valid = len(train_data) - n_train\n",
        "\n",
        "train_data,valid_data = torch.utils.data.random_split(train_data,[n_train,n_valid])\n",
        "\n",
        "print('train_data num is',n_train,'|valid_data numm is ',n_valid,'|test_data numm is',len(test_data))"
      ],
      "execution_count": 219,
      "outputs": [
        {
          "output_type": "stream",
          "text": [
            "train_data num is 54000 |valid_data numm is  6000 |test_data numm is 10000\n"
          ],
          "name": "stdout"
        }
      ]
    },
    {
      "cell_type": "markdown",
      "metadata": {
        "id": "2F8Gcp8DgVS0",
        "colab_type": "text"
      },
      "source": [
        "参数"
      ]
    },
    {
      "cell_type": "code",
      "metadata": {
        "id": "mxXPVdjR-LTF",
        "colab_type": "code",
        "colab": {}
      },
      "source": [
        "BATCH_SIZE = 64\n",
        "\n",
        "train_data_it = data.DataLoader(train_data, shuffle=True, batch_size = BATCH_SIZE)\n",
        "valid_data_it = data.DataLoader(valid_data, batch_size = BATCH_SIZE)\n",
        "test_data_it = data.DataLoader(test_data, batch_size = BATCH_SIZE)\n"
      ],
      "execution_count": 0,
      "outputs": []
    },
    {
      "cell_type": "markdown",
      "metadata": {
        "id": "ZXR6YL9dtLeR",
        "colab_type": "text"
      },
      "source": [
        "定义Model"
      ]
    },
    {
      "cell_type": "code",
      "metadata": {
        "id": "UEypZ742gj5L",
        "colab_type": "code",
        "colab": {}
      },
      "source": [
        "class MLP(nn.Module):\n",
        "  def __init__(self,n_hidden):\n",
        "    super(MLP,self).__init__()\n",
        "    \n",
        "    self.n_hidden = n_hidden\n",
        "    \n",
        "    self.in_hidden = nn.Linear(28*28 , n_hidden[0])\n",
        "    self.hiddens = nn.ModuleList([nn.Linear(n_hidden[i],n_hidden[i+1]) for i in range(len(n_hidden)-1)])\n",
        "    self.hidden_out = nn.Linear(n_hidden[-1],10)\n",
        "   \n",
        "  def forward(self,x):\n",
        "    x = x.view(x.shape[0],-1)\n",
        "    x = F.relu(self.in_hidden(x))\n",
        "    \n",
        "    for i in range(len(self.n_hidden) - 1):\n",
        "      x = F.relu(self.hiddens[i](x))\n",
        "    x = self.hidden_out(x)\n",
        "    return x\n"
      ],
      "execution_count": 0,
      "outputs": []
    },
    {
      "cell_type": "code",
      "metadata": {
        "id": "9V0FfSjCtK1T",
        "colab_type": "code",
        "colab": {
          "base_uri": "https://localhost:8080/",
          "height": 34
        },
        "outputId": "cfacc975-956f-404e-a46d-a8cf7171d598"
      },
      "source": [
        "device = torch.device('cuda' if torch.cuda.is_available() else 'cpu')\n",
        "print(device)\n",
        "model = MLP([1000,500,250]).to(device)\n",
        "optimizer = optim.Adam(model.parameters())\n",
        "loss_func = nn.CrossEntropyLoss()\n"
      ],
      "execution_count": 222,
      "outputs": [
        {
          "output_type": "stream",
          "text": [
            "cuda\n"
          ],
          "name": "stdout"
        }
      ]
    },
    {
      "cell_type": "markdown",
      "metadata": {
        "id": "2AP8suNIuZKN",
        "colab_type": "text"
      },
      "source": [
        "计算准确率"
      ]
    },
    {
      "cell_type": "code",
      "metadata": {
        "id": "ToE_0I2AuUMF",
        "colab_type": "code",
        "colab": {}
      },
      "source": [
        "def accuracy_cal(pred, y):\n",
        "  # tensor.max选取 tensor中的最大值 \n",
        "  # max(1)将 最大值的 index 作为结果输出\n",
        "  prediction = pred.max(1)[1]\n",
        "  correct = prediction.eq(y.view_as(prediction)).sum()\n",
        "  acc = correct.float() / prediction.shape[0]\n",
        "  return acc"
      ],
      "execution_count": 0,
      "outputs": []
    },
    {
      "cell_type": "code",
      "metadata": {
        "id": "qfHSniaaxB94",
        "colab_type": "code",
        "colab": {}
      },
      "source": [
        "def train(model, device , data , optimizer , loss_func):\n",
        "  epoch_loss = 0\n",
        "  epoch_acc = 0\n",
        "  \n",
        "  model.train()\n",
        "  \n",
        "  for (x,y) in data:\n",
        "    \n",
        "    x = x.to(device)\n",
        "    y = y.to(device)\n",
        "\n",
        "    optimizer.zero_grad()\n",
        "    pred = model(x)\n",
        "    loss = loss_func(pred, y)\n",
        "    acc = accuracy_cal(pred,y)\n",
        "    loss.backward()\n",
        "    optimizer.step()\n",
        "    \n",
        "    # item()将单值tensor转换成标量\n",
        "    epoch_loss += loss.item()\n",
        "    epoch_acc += acc.item()\n",
        "  return epoch_loss / len(data), epoch_acc / len(data)"
      ],
      "execution_count": 0,
      "outputs": []
    },
    {
      "cell_type": "code",
      "metadata": {
        "id": "milidOP-yLl-",
        "colab_type": "code",
        "colab": {}
      },
      "source": [
        "def test(model,device,data,loss_func):\n",
        "  epoch_loss = 0\n",
        "  epoch_acc = 0\n",
        "  model.eval()\n",
        "  \n",
        "  with torch.no_grad():\n",
        "    for (x,y) in data:\n",
        "      x = x.to(device)\n",
        "      y = y.to(device)\n",
        "      \n",
        "      pred = model(x)\n",
        "      loss = loss_func(pred,y)\n",
        "      acc = accuracy_cal(pred,y)\n",
        "      \n",
        "      epoch_loss += loss\n",
        "      epoch_acc += acc\n",
        "  return epoch_loss / len(data), epoch_acc / len(data)\n",
        "      "
      ],
      "execution_count": 0,
      "outputs": []
    },
    {
      "cell_type": "code",
      "metadata": {
        "id": "UHC2tRSmzYBm",
        "colab_type": "code",
        "colab": {
          "base_uri": "https://localhost:8080/",
          "height": 389
        },
        "outputId": "9e5c2474-aeb4-4ace-9be8-5c922ad8168a"
      },
      "source": [
        "EPOCH = 10\n",
        "SAVE_DIR = 'models'\n",
        "MODEL_SAVE_DIR = os.path.join(SAVE_DIR,'mlp_mnist.pt')\n",
        "\n",
        "best_valid_loss = float('inf')\n",
        "\n",
        "\n",
        "if not os.path.isdir(f'{SAVE_DIR}'):\n",
        "  os.makedirs(f'{SAVE_DIR}')\n",
        "  \n",
        "for epoch in range(EPOCH):\n",
        "  print('Epoch is ',epoch)\n",
        "  train_loss , train_acc = train(model,device,train_data_it,optimizer,loss_func)\n",
        "  valid_loss , valid_acc = test(model,device,valid_data_it,loss_func)\n",
        "  \n",
        "  if valid_loss < best_valid_loss:\n",
        "    best_valid_loss = valid_loss\n",
        "    torch.save(model.state_dict(),MODEL_SAVE_DIR)\n",
        "  print('|EPOCH ',epoch,'|Train Loss is ',train_loss,'|Train Acc is ',train_acc,'|Valid Loss is ',valid_loss,'|Valid acc is ',valid_acc)"
      ],
      "execution_count": 226,
      "outputs": [
        {
          "output_type": "stream",
          "text": [
            "Epoch is  0\n",
            "|EPOCH  0 |Train Loss is  0.22025260271866456 |Train Acc is  0.9316498815165877 |Valid Loss is  tensor(0.1524, device='cuda:0') |Valid acc is  tensor(0.9533, device='cuda:0')\n",
            "Epoch is  1\n",
            "|EPOCH  1 |Train Loss is  0.09853652892501857 |Train Acc is  0.970471712085308 |Valid Loss is  tensor(0.0982, device='cuda:0') |Valid acc is  tensor(0.9699, device='cuda:0')\n",
            "Epoch is  2\n",
            "|EPOCH  2 |Train Loss is  0.06966805823535716 |Train Acc is  0.9785680786410779 |Valid Loss is  tensor(0.1111, device='cuda:0') |Valid acc is  tensor(0.9674, device='cuda:0')\n",
            "Epoch is  3\n",
            "|EPOCH  3 |Train Loss is  0.05355143110528235 |Train Acc is  0.9835480845652486 |Valid Loss is  tensor(0.1065, device='cuda:0') |Valid acc is  tensor(0.9707, device='cuda:0')\n",
            "Epoch is  4\n",
            "|EPOCH  4 |Train Loss is  0.04674166278461611 |Train Acc is  0.9858745556872038 |Valid Loss is  tensor(0.0894, device='cuda:0') |Valid acc is  tensor(0.9759, device='cuda:0')\n",
            "Epoch is  5\n",
            "|EPOCH  5 |Train Loss is  0.03737597504048056 |Train Acc is  0.9881516587677726 |Valid Loss is  tensor(0.0916, device='cuda:0') |Valid acc is  tensor(0.9754, device='cuda:0')\n",
            "Epoch is  6\n",
            "|EPOCH  6 |Train Loss is  0.033827330263870026 |Train Acc is  0.9894969392020555 |Valid Loss is  tensor(0.1016, device='cuda:0') |Valid acc is  tensor(0.9742, device='cuda:0')\n",
            "Epoch is  7\n",
            "|EPOCH  7 |Train Loss is  0.03131787408302181 |Train Acc is  0.9903176836492891 |Valid Loss is  tensor(0.1045, device='cuda:0') |Valid acc is  tensor(0.9767, device='cuda:0')\n",
            "Epoch is  8\n",
            "|EPOCH  8 |Train Loss is  0.02590176640122564 |Train Acc is  0.9917246741706162 |Valid Loss is  tensor(0.1082, device='cuda:0') |Valid acc is  tensor(0.9786, device='cuda:0')\n",
            "Epoch is  9\n",
            "|EPOCH  9 |Train Loss is  0.025139823147665125 |Train Acc is  0.9923294332778849 |Valid Loss is  tensor(0.1195, device='cuda:0') |Valid acc is  tensor(0.9756, device='cuda:0')\n"
          ],
          "name": "stdout"
        }
      ]
    },
    {
      "cell_type": "code",
      "metadata": {
        "id": "G1RR2mdt1UdU",
        "colab_type": "code",
        "colab": {
          "base_uri": "https://localhost:8080/",
          "height": 34
        },
        "outputId": "a0c35e8c-60ff-49ab-a382-85dcacfc302e"
      },
      "source": [
        "model.load_state_dict(torch.load(MODEL_SAVE_DIR))\n",
        "test_loss, test_acc = test(model,device,test_data_it,loss_func)\n",
        "print('Test Loss is ',test_loss.item(),'|Test ACC is ',test_acc.item())"
      ],
      "execution_count": 231,
      "outputs": [
        {
          "output_type": "stream",
          "text": [
            "Test Loss is  0.07583176344633102 |Test ACC is  0.9790008068084717\n"
          ],
          "name": "stdout"
        }
      ]
    },
    {
      "cell_type": "code",
      "metadata": {
        "id": "g8__wE9hDcPp",
        "colab_type": "code",
        "colab": {}
      },
      "source": [
        ""
      ],
      "execution_count": 0,
      "outputs": []
    }
  ]
}