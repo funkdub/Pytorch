{
  "nbformat": 4,
  "nbformat_minor": 0,
  "metadata": {
    "colab": {
      "name": "Test_Feng.ipynb",
      "version": "0.3.2",
      "provenance": [],
      "collapsed_sections": [],
      "include_colab_link": true
    },
    "kernelspec": {
      "name": "python3",
      "display_name": "Python 3"
    },
    "accelerator": "GPU"
  },
  "cells": [
    {
      "cell_type": "markdown",
      "metadata": {
        "id": "view-in-github",
        "colab_type": "text"
      },
      "source": [
        "<a href=\"https://colab.research.google.com/github/funkdub/Pytorch/blob/master/LeNet_MNIST.ipynb\" target=\"_parent\"><img src=\"https://colab.research.google.com/assets/colab-badge.svg\" alt=\"Open In Colab\"/></a>"
      ]
    },
    {
      "cell_type": "code",
      "metadata": {
        "id": "cjo1QxLG7W7p",
        "colab_type": "code",
        "outputId": "e294e909-a559-482b-cf75-30d37ea872d2",
        "colab": {
          "base_uri": "https://localhost:8080/",
          "height": 34
        }
      },
      "source": [
        "print('Importing ...')\n",
        "import torch\n",
        "import torch.nn as nn\n",
        "import torch.nn.functional as F\n",
        "import torch.optim as optim\n",
        "import torch.utils.data as data\n",
        "\n",
        "import torchvision\n",
        "import torchvision.transforms as transforms\n",
        "import torchvision.datasets as datasets\n",
        "\n",
        "\n",
        "import os\n",
        "import random\n",
        "import numpy as np\n",
        "\n",
        "SEED = 1234\n",
        "\n",
        "random.seed(SEED)\n",
        "np.random.seed(SEED)\n",
        "torch.manual_seed(SEED)\n",
        "torch.cuda.manual_seed(SEED)\n",
        "torch.backends.cudnn.deterministic = True"
      ],
      "execution_count": 1,
      "outputs": [
        {
          "output_type": "stream",
          "text": [
            "Importing ...\n"
          ],
          "name": "stdout"
        }
      ]
    },
    {
      "cell_type": "markdown",
      "metadata": {
        "id": "iiHvVp4lb98J",
        "colab_type": "text"
      },
      "source": [
        "使用datasets 准备数据集，并且将训练集 验证机 以及 测试集准备好。"
      ]
    },
    {
      "cell_type": "code",
      "metadata": {
        "id": "gXxv-7te8J_T",
        "colab_type": "code",
        "outputId": "cd41901f-b1fd-48c2-9106-7a9eeada43a0",
        "colab": {
          "base_uri": "https://localhost:8080/",
          "height": 301
        }
      },
      "source": [
        "# 其实就是数据增强操作,在dataloader中使用transforms\n",
        "data_transforms = transforms.Compose(\n",
        "[\n",
        "    transforms.Resize(32),\n",
        "    transforms.ToTensor(),\n",
        "    transforms.Normalize((0.1307,),(0.3081,))\n",
        "]\n",
        ")\n",
        "\n",
        "train_data = datasets.MNIST('data',train=True,download=True,transform=data_transforms)\n",
        "test_data = datasets.MNIST('data',train=False,download=True,transform=data_transforms)\n",
        "\n",
        "n_train = int(len(train_data)*0.9)\n",
        "n_valid = len(train_data) - n_train\n",
        "\n",
        "train_data,valid_data = torch.utils.data.random_split(train_data,[n_train,n_valid])\n",
        "\n",
        "print('train_data num is',n_train,'|valid_data numm is ',n_valid,'|test_data numm is',len(test_data))"
      ],
      "execution_count": 2,
      "outputs": [
        {
          "output_type": "stream",
          "text": [
            "  0%|          | 0/9912422 [00:00<?, ?it/s]"
          ],
          "name": "stderr"
        },
        {
          "output_type": "stream",
          "text": [
            "Downloading http://yann.lecun.com/exdb/mnist/train-images-idx3-ubyte.gz to data/MNIST/raw/train-images-idx3-ubyte.gz\n"
          ],
          "name": "stdout"
        },
        {
          "output_type": "stream",
          "text": [
            "9920512it [00:00, 20094258.46it/s]                            \n"
          ],
          "name": "stderr"
        },
        {
          "output_type": "stream",
          "text": [
            "Extracting data/MNIST/raw/train-images-idx3-ubyte.gz\n"
          ],
          "name": "stdout"
        },
        {
          "output_type": "stream",
          "text": [
            "32768it [00:00, 336799.09it/s]\n",
            "0it [00:00, ?it/s]"
          ],
          "name": "stderr"
        },
        {
          "output_type": "stream",
          "text": [
            "Downloading http://yann.lecun.com/exdb/mnist/train-labels-idx1-ubyte.gz to data/MNIST/raw/train-labels-idx1-ubyte.gz\n",
            "Extracting data/MNIST/raw/train-labels-idx1-ubyte.gz\n",
            "Downloading http://yann.lecun.com/exdb/mnist/t10k-images-idx3-ubyte.gz to data/MNIST/raw/t10k-images-idx3-ubyte.gz\n"
          ],
          "name": "stdout"
        },
        {
          "output_type": "stream",
          "text": [
            "1654784it [00:00, 5829916.48it/s]                           \n",
            "8192it [00:00, 130828.45it/s]\n"
          ],
          "name": "stderr"
        },
        {
          "output_type": "stream",
          "text": [
            "Extracting data/MNIST/raw/t10k-images-idx3-ubyte.gz\n",
            "Downloading http://yann.lecun.com/exdb/mnist/t10k-labels-idx1-ubyte.gz to data/MNIST/raw/t10k-labels-idx1-ubyte.gz\n",
            "Extracting data/MNIST/raw/t10k-labels-idx1-ubyte.gz\n",
            "Processing...\n",
            "Done!\n",
            "train_data num is 54000 |valid_data numm is  6000 |test_data numm is 10000\n"
          ],
          "name": "stdout"
        }
      ]
    },
    {
      "cell_type": "markdown",
      "metadata": {
        "id": "2F8Gcp8DgVS0",
        "colab_type": "text"
      },
      "source": [
        "参数"
      ]
    },
    {
      "cell_type": "code",
      "metadata": {
        "id": "mxXPVdjR-LTF",
        "colab_type": "code",
        "colab": {}
      },
      "source": [
        "BATCH_SIZE = 64\n",
        "\n",
        "train_data_it = data.DataLoader(train_data, shuffle=True, batch_size = BATCH_SIZE)\n",
        "valid_data_it = data.DataLoader(valid_data, batch_size = BATCH_SIZE)\n",
        "test_data_it = data.DataLoader(test_data, batch_size = BATCH_SIZE)\n"
      ],
      "execution_count": 0,
      "outputs": []
    },
    {
      "cell_type": "markdown",
      "metadata": {
        "id": "ZXR6YL9dtLeR",
        "colab_type": "text"
      },
      "source": [
        "定义Model LeNet"
      ]
    },
    {
      "cell_type": "code",
      "metadata": {
        "id": "UEypZ742gj5L",
        "colab_type": "code",
        "colab": {}
      },
      "source": [
        "class LeNet(nn.Module):\n",
        "  def __init__(self):\n",
        "    super(LeNet,self).__init__()\n",
        "    self.conv1 = nn.Conv2d(1,6,5)\n",
        "    self.conv2 = nn.Conv2d(6,16,5)\n",
        "    self.fc1 = nn.Linear(5*5*16 , 120)\n",
        "    self.fc2 = nn.Linear(120 , 84)\n",
        "    self.fc3 = nn.Linear(84 , 10)\n",
        "   \n",
        "  def forward(self,x):\n",
        "    x = F.max_pool2d(F.relu(self.conv1(x)) , 2)\n",
        "    x = F.max_pool2d(F.relu(self.conv2(x)) , 2)\n",
        "    x = x.view(x.shape[0],-1)\n",
        "    x = F.relu(self.fc1(x))\n",
        "    x = F.relu(self.fc2(x))\n",
        "    x = self.fc3(x)\n",
        "    return x\n"
      ],
      "execution_count": 0,
      "outputs": []
    },
    {
      "cell_type": "code",
      "metadata": {
        "id": "9V0FfSjCtK1T",
        "colab_type": "code",
        "outputId": "d0bfd5fc-4fd9-48f1-f0a3-669cdf35e4d2",
        "colab": {
          "base_uri": "https://localhost:8080/",
          "height": 34
        }
      },
      "source": [
        "device = torch.device('cuda' if torch.cuda.is_available() else 'cpu')\n",
        "print(device)\n",
        "model = LeNet().to(device)\n",
        "optimizer = optim.Adam(model.parameters())\n",
        "loss_func = nn.CrossEntropyLoss()\n"
      ],
      "execution_count": 5,
      "outputs": [
        {
          "output_type": "stream",
          "text": [
            "cuda\n"
          ],
          "name": "stdout"
        }
      ]
    },
    {
      "cell_type": "markdown",
      "metadata": {
        "id": "2AP8suNIuZKN",
        "colab_type": "text"
      },
      "source": [
        "计算准确率"
      ]
    },
    {
      "cell_type": "code",
      "metadata": {
        "id": "ToE_0I2AuUMF",
        "colab_type": "code",
        "colab": {}
      },
      "source": [
        "def accuracy_cal(pred, y):\n",
        "  # tensor.max选取 tensor中的最大值 \n",
        "  # max(1)将 最大值的 index 作为结果输出\n",
        "  prediction = pred.max(1)[1]\n",
        "  correct = prediction.eq(y.view_as(prediction)).sum()\n",
        "  acc = correct.float() / prediction.shape[0]\n",
        "  return acc"
      ],
      "execution_count": 0,
      "outputs": []
    },
    {
      "cell_type": "code",
      "metadata": {
        "id": "qfHSniaaxB94",
        "colab_type": "code",
        "colab": {}
      },
      "source": [
        "def train(model, device , data , optimizer , loss_func):\n",
        "  epoch_loss = 0\n",
        "  epoch_acc = 0\n",
        "  \n",
        "  model.train()\n",
        "  \n",
        "  for (x,y) in data:\n",
        "    \n",
        "    x = x.to(device)\n",
        "    y = y.to(device)\n",
        "\n",
        "    optimizer.zero_grad()\n",
        "    pred = model(x)\n",
        "    loss = loss_func(pred, y)\n",
        "    acc = accuracy_cal(pred,y)\n",
        "    loss.backward()\n",
        "    optimizer.step()\n",
        "    \n",
        "    # item()将单值tensor转换成标量\n",
        "    epoch_loss += loss.item()\n",
        "    epoch_acc += acc.item()\n",
        "  return epoch_loss / len(data), epoch_acc / len(data)"
      ],
      "execution_count": 0,
      "outputs": []
    },
    {
      "cell_type": "code",
      "metadata": {
        "id": "milidOP-yLl-",
        "colab_type": "code",
        "colab": {}
      },
      "source": [
        "def test(model,device,data,loss_func):\n",
        "  epoch_loss = 0\n",
        "  epoch_acc = 0\n",
        "  model.eval()\n",
        "  \n",
        "  with torch.no_grad():\n",
        "    for (x,y) in data:\n",
        "      x = x.to(device)\n",
        "      y = y.to(device)\n",
        "      \n",
        "      pred = model(x)\n",
        "      loss = loss_func(pred,y)\n",
        "      acc = accuracy_cal(pred,y)\n",
        "      \n",
        "      epoch_loss += loss.item()\n",
        "      epoch_acc += acc.item()\n",
        "  return epoch_loss / len(data), epoch_acc / len(data)\n",
        "      "
      ],
      "execution_count": 0,
      "outputs": []
    },
    {
      "cell_type": "code",
      "metadata": {
        "id": "UHC2tRSmzYBm",
        "colab_type": "code",
        "outputId": "26859e57-4df4-4871-906a-fef88e8b2992",
        "colab": {
          "base_uri": "https://localhost:8080/",
          "height": 389
        }
      },
      "source": [
        "EPOCH = 10\n",
        "SAVE_DIR = 'models'\n",
        "MODEL_SAVE_DIR = os.path.join(SAVE_DIR,'LeNet_mnist.pt')\n",
        "\n",
        "best_valid_loss = float('inf')\n",
        "\n",
        "\n",
        "if not os.path.isdir(f'{SAVE_DIR}'):\n",
        "  os.makedirs(f'{SAVE_DIR}')\n",
        "  \n",
        "for epoch in range(EPOCH):\n",
        "  print('Epoch is ',epoch)\n",
        "  train_loss , train_acc = train(model,device,train_data_it,optimizer,loss_func)\n",
        "  valid_loss , valid_acc = test(model,device,valid_data_it,loss_func)\n",
        "  \n",
        "  if valid_loss < best_valid_loss:\n",
        "    best_valid_loss = valid_loss\n",
        "    torch.save(model.state_dict(),MODEL_SAVE_DIR)\n",
        "  print('|EPOCH ',epoch,'|Train Loss is ',train_loss,'|Train Acc is ',train_acc,'|Valid Loss is ',valid_loss,'|Valid acc is ',valid_acc)"
      ],
      "execution_count": 9,
      "outputs": [
        {
          "output_type": "stream",
          "text": [
            "Epoch is  0\n",
            "|EPOCH  0 |Train Loss is  0.25406545481834364 |Train Acc is  0.9211529917061612 |Valid Loss is  0.12763656691667882 |Valid acc is  0.9598847519844136\n",
            "Epoch is  1\n",
            "|EPOCH  1 |Train Loss is  0.0787083214475504 |Train Acc is  0.97540852095561 |Valid Loss is  0.07819700252978092 |Valid acc is  0.9753435285801583\n",
            "Epoch is  2\n",
            "|EPOCH  2 |Train Loss is  0.056325775496132 |Train Acc is  0.9827581951262262 |Valid Loss is  0.08136863386298114 |Valid acc is  0.9770057626227115\n",
            "Epoch is  3\n",
            "|EPOCH  3 |Train Loss is  0.043477747249483216 |Train Acc is  0.9862756714295436 |Valid Loss is  0.050501130164620725 |Valid acc is  0.9844858158142009\n",
            "Epoch is  4\n",
            "|EPOCH  4 |Train Loss is  0.03554896112769772 |Train Acc is  0.9882133689254381 |Valid Loss is  0.04967410662310555 |Valid acc is  0.9860372340425532\n",
            "Epoch is  5\n",
            "|EPOCH  5 |Train Loss is  0.029988751637471302 |Train Acc is  0.9903917357819905 |Valid Loss is  0.07298504759339576 |Valid acc is  0.9778368796439881\n",
            "Epoch is  6\n",
            "|EPOCH  6 |Train Loss is  0.025848695286659975 |Train Acc is  0.9913112164532404 |Valid Loss is  0.047911850973329645 |Valid acc is  0.9870345744680851\n",
            "Epoch is  7\n",
            "|EPOCH  7 |Train Loss is  0.022486734260822608 |Train Acc is  0.9927428909952607 |Valid Loss is  0.04986865097220908 |Valid acc is  0.98664672006952\n",
            "Epoch is  8\n",
            "|EPOCH  8 |Train Loss is  0.019456409672672433 |Train Acc is  0.9933785051813623 |Valid Loss is  0.05537365717773742 |Valid acc is  0.9857601954581889\n",
            "Epoch is  9\n",
            "|EPOCH  9 |Train Loss is  0.017962537127683795 |Train Acc is  0.9939956062636669 |Valid Loss is  0.04506851948718441 |Valid acc is  0.9895279255319149\n"
          ],
          "name": "stdout"
        }
      ]
    },
    {
      "cell_type": "code",
      "metadata": {
        "id": "G1RR2mdt1UdU",
        "colab_type": "code",
        "outputId": "0bd46c7c-efc0-4672-c288-442981277158",
        "colab": {
          "base_uri": "https://localhost:8080/",
          "height": 34
        }
      },
      "source": [
        "model.load_state_dict(torch.load(MODEL_SAVE_DIR))\n",
        "test_loss, test_acc = test(model,device,test_data_it,loss_func)\n",
        "print('Test Loss is ',test_loss,'|Test ACC is ',test_acc)"
      ],
      "execution_count": 11,
      "outputs": [
        {
          "output_type": "stream",
          "text": [
            "Test Loss is  0.032160650037086694 |Test ACC is  0.9917396496815286\n"
          ],
          "name": "stdout"
        }
      ]
    },
    {
      "cell_type": "code",
      "metadata": {
        "id": "g8__wE9hDcPp",
        "colab_type": "code",
        "colab": {}
      },
      "source": [
        ""
      ],
      "execution_count": 0,
      "outputs": []
    }
  ]
}